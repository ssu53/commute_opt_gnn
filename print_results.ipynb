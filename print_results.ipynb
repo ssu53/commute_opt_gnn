{
 "cells": [
  {
   "cell_type": "code",
   "execution_count": 1,
   "metadata": {},
   "outputs": [],
   "source": [
    "from pprint import pprint\n",
    "\n",
    "import numpy as np\n",
    "import yaml\n",
    "from easydict import EasyDict\n",
    "from tqdm import tqdm\n",
    "\n",
    "import wandb"
   ]
  },
  {
   "cell_type": "code",
   "execution_count": 2,
   "metadata": {},
   "outputs": [],
   "source": [
    "api = wandb.Api()\n",
    "\n",
    "with open(\"configs/ColourInteract.yaml\", \"r\") as file:\n",
    "    config = EasyDict(yaml.safe_load(file))\n",
    "\n",
    "c2_over_c1s = [0.01, 0.1, 1.0, 10.0, 100.0]"
   ]
  },
  {
   "cell_type": "code",
   "execution_count": 3,
   "metadata": {},
   "outputs": [
    {
     "name": "stdout",
     "output_type": "stream",
     "text": [
      "commute_opt_gnn/ColourInteract Sweeps Wednesday Night\n"
     ]
    },
    {
     "name": "stderr",
     "output_type": "stream",
     "text": [
      "100%|██████████| 2/2 [00:00<00:00, 8674.88it/s]\n"
     ]
    }
   ],
   "source": [
    "runs = api.runs(f\"{config.wandb.entity}/{config.wandb.project}\")\n",
    "print(f\"{config.wandb.entity}/{config.wandb.project}\")\n",
    "\n",
    "all_run_names = []\n",
    "\n",
    "for approach in tqdm(config.model.approaches):\n",
    "    if approach == \"only_original\":\n",
    "        rewirers = [None]\n",
    "    else:\n",
    "        rewirers = config.data.rewirers\n",
    "    for c2_over_c1 in c2_over_c1s:\n",
    "        for rewirer in rewirers:\n",
    "            statistics = []\n",
    "            for seed in config.model.seeds:\n",
    "                \n",
    "                run_name = f\"{config.data.dataset}-{approach}-rewired-with-{rewirer}-c2/c1-{c2_over_c1}-seed-{seed}\"\n",
    "\n",
    "                all_run_names.append(run_name)"
   ]
  },
  {
   "cell_type": "code",
   "execution_count": 4,
   "metadata": {},
   "outputs": [
    {
     "name": "stderr",
     "output_type": "stream",
     "text": [
      "100%|██████████| 75/75 [00:25<00:00,  2.91it/s]\n"
     ]
    }
   ],
   "source": [
    "all_run_statistics = {}\n",
    "\n",
    "for run in tqdm(runs):  \n",
    "    if run.name in all_run_names:\n",
    "        run_stats = run.history(keys=[\"eval/loss\"], pandas=False)\n",
    "        run_stats = [stats[\"eval/loss\"] for stats in run_stats]\n",
    "        all_run_statistics[run.name] = run_stats"
   ]
  },
  {
   "cell_type": "code",
   "execution_count": 5,
   "metadata": {},
   "outputs": [
    {
     "name": "stderr",
     "output_type": "stream",
     "text": [
      "100%|██████████| 2/2 [00:00<00:00, 2117.27it/s]\n"
     ]
    }
   ],
   "source": [
    "results = {run: {} for run in [\"only_original_None\", \"interleave_cayley\", \"interleave_unconnected_cayley_clusters\", \"interleave_fully_connected_clusters\", \"interleave_fully_connected\"]}\n",
    "\n",
    "all_run_names = []\n",
    "\n",
    "for approach in tqdm(config.model.approaches):\n",
    "    if approach == \"only_original\":\n",
    "        rewirers = [None]\n",
    "    else:\n",
    "        rewirers = config.data.rewirers\n",
    "    for c2_over_c1 in c2_over_c1s:\n",
    "        for rewirer in rewirers:\n",
    "            statistics = []\n",
    "            for seed in config.model.seeds:\n",
    "                \n",
    "                run_name = f\"{config.data.dataset}-{approach}-rewired-with-{rewirer}-c2/c1-{c2_over_c1}-seed-{seed}\"\n",
    "\n",
    "                statistics.append(all_run_statistics[run_name])\n",
    "\n",
    "            statistics = np.array(statistics)\n",
    "            \n",
    "            mins = statistics[:, -1]\n",
    "\n",
    "            results[f\"{approach}_{rewirer}\"][c2_over_c1] = mins"
   ]
  },
  {
   "cell_type": "code",
   "execution_count": 6,
   "metadata": {},
   "outputs": [],
   "source": [
    "import copy\n",
    "\n",
    "processed_results = copy.deepcopy(results)\n",
    "\n",
    "for c2_over_c1 in c2_over_c1s:\n",
    "\n",
    "    for rewirer in results:\n",
    "        normalised_results = []\n",
    "        \n",
    "        for seed_idx in range(len(config.model.seeds)):\n",
    "            plain_gin = results[\"only_original_None\"][c2_over_c1][seed_idx]\n",
    "            \n",
    "            normalised_results.append(processed_results[rewirer][c2_over_c1][seed_idx] / plain_gin)\n",
    "            \n",
    "        processed_results[rewirer][c2_over_c1] = normalised_results"
   ]
  },
  {
   "cell_type": "code",
   "execution_count": 7,
   "metadata": {},
   "outputs": [
    {
     "name": "stdout",
     "output_type": "stream",
     "text": [
      "{'interleave_cayley': {0.01: [7.149752095098683,\n",
      "                              28.37402707570636,\n",
      "                              24.347761152332637],\n",
      "                       0.1: [0.3511203542133236,\n",
      "                             0.7233843486570287,\n",
      "                             1.9634477793537741],\n",
      "                       1.0: [0.4669103442659743,\n",
      "                             0.7369839532972746,\n",
      "                             0.4194543512382267],\n",
      "                       10.0: [0.4392665961742164,\n",
      "                              0.3631101331498,\n",
      "                              0.359544500484152],\n",
      "                       100.0: [1.0036156918011256,\n",
      "                               0.5788429688285017,\n",
      "                               0.3896137190529125]},\n",
      " 'interleave_fully_connected': {0.01: [582.2179469146237,\n",
      "                                       83.3878696474904,\n",
      "                                       2540.2867620305524],\n",
      "                                0.1: [55.716485786153626,\n",
      "                                      4.869067389290875,\n",
      "                                      127.35840956455284],\n",
      "                                1.0: [1.1352010576281513,\n",
      "                                      1.0540389883855599,\n",
      "                                      37.33431819448963],\n",
      "                                10.0: [6.59432436174422,\n",
      "                                       3.002544850440531,\n",
      "                                       5.691278138216788],\n",
      "                                100.0: [0.9777518397583411,\n",
      "                                        1.6749225079181114,\n",
      "                                        17.226228881741676]},\n",
      " 'interleave_fully_connected_clusters': {0.01: [31.829305567265383,\n",
      "                                                15.723827604519906,\n",
      "                                                6.586314177590036],\n",
      "                                         0.1: [4.618715201934479,\n",
      "                                               1.7553275374882735,\n",
      "                                               1.7669133832431083],\n",
      "                                         1.0: [1.0396944069439664,\n",
      "                                               2.087893102217597,\n",
      "                                               0.6573613887279091],\n",
      "                                         10.0: [0.3191641901972246,\n",
      "                                                0.8203597947958122,\n",
      "                                                2.141575395860299],\n",
      "                                         100.0: [2.5587294651277785,\n",
      "                                                 1.7570697006343639,\n",
      "                                                 4.058655325113599]},\n",
      " 'interleave_unconnected_cayley_clusters': {0.01: [1.62279058719657,\n",
      "                                                   1.244003422961183,\n",
      "                                                   1.948199471551642],\n",
      "                                            0.1: [1.0161827759173407,\n",
      "                                                  0.9829152040966022,\n",
      "                                                  0.5071760048234487],\n",
      "                                            1.0: [0.9575771665767266,\n",
      "                                                  0.4393026131993063,\n",
      "                                                  0.596440734850806],\n",
      "                                            10.0: [0.9029187144526616,\n",
      "                                                   0.43041491775420204,\n",
      "                                                   0.6124060741590006],\n",
      "                                            100.0: [0.7775645128382179,\n",
      "                                                    0.2313232515599842,\n",
      "                                                    0.4931073662989222]},\n",
      " 'only_original_None': {0.01: [1.0, 1.0, 1.0],\n",
      "                        0.1: [1.0, 1.0, 1.0],\n",
      "                        1.0: [1.0, 1.0, 1.0],\n",
      "                        10.0: [1.0, 1.0, 1.0],\n",
      "                        100.0: [1.0, 1.0, 1.0]}}\n"
     ]
    }
   ],
   "source": [
    "pprint(processed_results)"
   ]
  },
  {
   "cell_type": "code",
   "execution_count": 8,
   "metadata": {},
   "outputs": [],
   "source": [
    "for rewirer in results:\n",
    "    for c2_over_c1 in c2_over_c1s:\n",
    "        processed_results[rewirer][c2_over_c1] = (np.median(processed_results[rewirer][c2_over_c1]), np.mean(processed_results[rewirer][c2_over_c1]), np.std(processed_results[rewirer][c2_over_c1]))"
   ]
  },
  {
   "cell_type": "code",
   "execution_count": 9,
   "metadata": {},
   "outputs": [
    {
     "name": "stdout",
     "output_type": "stream",
     "text": [
      "{'interleave_cayley': {0.01: (24.347761152332637,\n",
      "                              19.95718010771256,\n",
      "                              9.204178889509738),\n",
      "                       0.1: (0.7233843486570287,\n",
      "                             1.0126508274080421,\n",
      "                             0.689278005481952),\n",
      "                       1.0: (0.4669103442659743,\n",
      "                             0.5411162162671586,\n",
      "                             0.13984788313386903),\n",
      "                       10.0: (0.3631101331498,\n",
      "                              0.38730707660272284,\n",
      "                              0.03676975378080833),\n",
      "                       100.0: (0.5788429688285017,\n",
      "                               0.6573574598941799,\n",
      "                               0.2567398159163621)},\n",
      " 'interleave_fully_connected': {0.01: (582.2179469146237,\n",
      "                                       1068.630859530889,\n",
      "                                       1060.3572300623214),\n",
      "                                0.1: (55.716485786153626,\n",
      "                                      62.64798757999912,\n",
      "                                      50.2456898613912),\n",
      "                                1.0: (1.1352010576281513,\n",
      "                                      13.174519413501114,\n",
      "                                      17.08358968276792),\n",
      "                                10.0: (5.691278138216788,\n",
      "                                       5.096049116800513,\n",
      "                                       1.525547596855497),\n",
      "                                100.0: (1.6749225079181114,\n",
      "                                        6.62630107647271,\n",
      "                                        7.500682806377084)},\n",
      " 'interleave_fully_connected_clusters': {0.01: (15.723827604519906,\n",
      "                                                18.046482449791775,\n",
      "                                                10.43545870969119),\n",
      "                                         0.1: (1.7669133832431083,\n",
      "                                               2.71365204088862,\n",
      "                                               1.3470913835955334),\n",
      "                                         1.0: (1.0396944069439664,\n",
      "                                               1.261649632629824,\n",
      "                                               0.604733184956738),\n",
      "                                         10.0: (0.8203597947958122,\n",
      "                                                1.0936997936177786,\n",
      "                                                0.7686922734309136),\n",
      "                                         100.0: (2.5587294651277785,\n",
      "                                                 2.791484830291914,\n",
      "                                                 0.9539236138922533)},\n",
      " 'interleave_unconnected_cayley_clusters': {0.01: (1.62279058719657,\n",
      "                                                   1.6049978272364651,\n",
      "                                                   0.28776200286909837),\n",
      "                                            0.1: (0.9829152040966022,\n",
      "                                                  0.8354246616124638,\n",
      "                                                  0.2325038613966895),\n",
      "                                            1.0: (0.596440734850806,\n",
      "                                                  0.6644401715422795,\n",
      "                                                  0.2169793703134155),\n",
      "                                            10.0: (0.6124060741590006,\n",
      "                                                   0.6485799021219547,\n",
      "                                                   0.19458737342684024),\n",
      "                                            100.0: (0.4931073662989222,\n",
      "                                                    0.5006650435657082,\n",
      "                                                    0.22306608549181198)},\n",
      " 'only_original_None': {0.01: (1.0, 1.0, 0.0),\n",
      "                        0.1: (1.0, 1.0, 0.0),\n",
      "                        1.0: (1.0, 1.0, 0.0),\n",
      "                        10.0: (1.0, 1.0, 0.0),\n",
      "                        100.0: (1.0, 1.0, 0.0)}}\n"
     ]
    }
   ],
   "source": [
    "pprint(processed_results)"
   ]
  },
  {
   "cell_type": "code",
   "execution_count": 10,
   "metadata": {},
   "outputs": [
    {
     "name": "stdout",
     "output_type": "stream",
     "text": [
      "Rewirer: only_original_None\n",
      "Rewirer: interleave_cayley\n",
      "Rewirer: interleave_unconnected_cayley_clusters\n",
      "Rewirer: interleave_fully_connected_clusters\n",
      "Rewirer: interleave_fully_connected\n"
     ]
    }
   ],
   "source": [
    "num_strings = {rewirer: {} for rewirer in results}\n",
    "\n",
    "for rewirer in results:\n",
    "    print(f\"Rewirer: {rewirer}\")\n",
    "    middle_string = \"\"\n",
    "    below_string = \"\"\n",
    "    above_string = \"\"\n",
    "\n",
    "    for c2_over_c1 in c2_over_c1s:\n",
    "        # if c2_over_c1 == 0.5:\n",
    "        #     print(rewirer)\n",
    "        #     print(processed_results[rewirer][c2_over_c1])\n",
    "        median, mean, std = processed_results[rewirer][c2_over_c1]\n",
    "        below_string += f\"({c2_over_c1:.4f},{(mean-std):.4f})\"\n",
    "        above_string += f\"({c2_over_c1:.4f},{(mean+std):.4f})\"\n",
    "        middle_string += f\"({c2_over_c1:.4f},{mean:.4f})\"\n",
    "\n",
    "    num_strings[rewirer][\"middle\"] = middle_string\n",
    "    num_strings[rewirer][\"below\"] = below_string\n",
    "    num_strings[rewirer][\"above\"] = above_string"
   ]
  },
  {
   "cell_type": "code",
   "execution_count": 12,
   "metadata": {},
   "outputs": [
    {
     "name": "stdout",
     "output_type": "stream",
     "text": [
      "only_original_None\n",
      "interleave_cayley\n",
      "interleave_unconnected_cayley_clusters\n",
      "interleave_fully_connected_clusters\n",
      "interleave_fully_connected\n"
     ]
    }
   ],
   "source": [
    "plot = r\"\"\"\\begin{tikzpicture}\n",
    "\\begin{axis}[\n",
    "    xmin=0.01, xmax=100,\n",
    "    ymin=0, ymax=2,\n",
    "    ymajorgrids=true,\n",
    "    xlabel=$c_2/c_1$,\n",
    "    ylabel=$\\textrm{loss}/\\textrm{loss}_{\\textrm{Plain GIN}}$,\n",
    "    grid style=dashed,\n",
    "    xmode=log,\n",
    "    xtick={0.01, 0.1,1,10, 100}, % Specify the positions of the ticks\n",
    "    xticklabels={$0.01$, $0.1$, $1$, $10$, $100$}, % Specify the labels for the ticks\n",
    "    ytick={0.0, 0.5, 1.0,1.5,2.0}, % Specify the positions of the ticks\n",
    "    yticklabels={-, $0.5$, $1.0$, $1.5$, $2.0$}, % Specify the labels for the ticks\n",
    "    legend pos=north east,\n",
    "    width=0.9\\textwidth,\n",
    "]\n",
    "\"\"\"\n",
    "\n",
    "colours = [\"black\", \"blue\", \"red\", \"green\", \"orange\", \"purple\", \"brown\"]\n",
    "shading = [\"gray\", \"blue\", \"red\", \"green\", \"orange\", \"purple\", \"brown\"]\n",
    "\n",
    "for idx, rewirer in enumerate(results):\n",
    "    plot += r\"\\addplot[color=\" + colours[idx] + \", ultra thick, mark=ball] coordinates{\" + num_strings[rewirer][\"middle\"] + \"};\\n\\n\"\n",
    "\n",
    "for idx, rewirer in enumerate(results):\n",
    "    print(rewirer)\n",
    "    plot += r\"\\addplot[name path=\" + rewirer + \"_top,color=\" + shading[idx] + r\"!70,dashed] coordinates {\" + num_strings[rewirer][\"above\"] + \"};\\n\\n\"\n",
    "    plot += r\"\\addplot[name path=\" + rewirer + \"_down,color=\" + shading[idx] + r\"!70,dashed] coordinates {\" + num_strings[rewirer][\"below\"] + \"};\\n\\n\"\n",
    "    # \\addplot[gray!50,fill opacity=0.1] fill between[of=gin_top and gin_down];\n",
    "    plot += r\"\\addplot[\" + shading[idx] + \"!50,fill opacity=0.1] fill between[of=\" + rewirer + r\"_top and \" + rewirer + \"_down];\\n\\n\"\n",
    "\n",
    "plot += r\"\"\"\n",
    "\\legend{Plain GIN, GIN+Cayley, GIN+Unconnected Cayley Clusters, GIN+Fully Connected}\n",
    "\\end{axis}\n",
    "\\end{tikzpicture}\n",
    "\"\"\""
   ]
  },
  {
   "cell_type": "code",
   "execution_count": 13,
   "metadata": {},
   "outputs": [
    {
     "name": "stdout",
     "output_type": "stream",
     "text": [
      "\\begin{tikzpicture}\n",
      "\\begin{axis}[\n",
      "    xmin=0.01, xmax=100,\n",
      "    ymin=0, ymax=2,\n",
      "    ymajorgrids=true,\n",
      "    xlabel=$c_2/c_1$,\n",
      "    ylabel=$\\textrm{loss}/\\textrm{loss}_{\\textrm{Plain GIN}}$,\n",
      "    grid style=dashed,\n",
      "    xmode=log,\n",
      "    xtick={0.01, 0.1,1,10, 100}, % Specify the positions of the ticks\n",
      "    xticklabels={$0.01$, $0.1$, $1$, $10$, $100$}, % Specify the labels for the ticks\n",
      "    ytick={0.0, 0.5, 1.0,1.5,2.0}, % Specify the positions of the ticks\n",
      "    yticklabels={-, $0.5$, $1.0$, $1.5$, $2.0$}, % Specify the labels for the ticks\n",
      "    legend pos=north east,\n",
      "    width=0.9\\textwidth,\n",
      "]\n",
      "\\addplot[color=black, ultra thick, mark=ball] coordinates{(0.0100,1.0000)(0.1000,1.0000)(1.0000,1.0000)(10.0000,1.0000)(100.0000,1.0000)};\n",
      "\n",
      "\\addplot[color=blue, ultra thick, mark=ball] coordinates{(0.0100,19.9572)(0.1000,1.0127)(1.0000,0.5411)(10.0000,0.3873)(100.0000,0.6574)};\n",
      "\n",
      "\\addplot[color=red, ultra thick, mark=ball] coordinates{(0.0100,1.6050)(0.1000,0.8354)(1.0000,0.6644)(10.0000,0.6486)(100.0000,0.5007)};\n",
      "\n",
      "\\addplot[color=green, ultra thick, mark=ball] coordinates{(0.0100,18.0465)(0.1000,2.7137)(1.0000,1.2616)(10.0000,1.0937)(100.0000,2.7915)};\n",
      "\n",
      "\\addplot[color=orange, ultra thick, mark=ball] coordinates{(0.0100,1068.6309)(0.1000,62.6480)(1.0000,13.1745)(10.0000,5.0960)(100.0000,6.6263)};\n",
      "\n",
      "\\addplot[name path=only_original_None_top,color=gray!70,dashed] coordinates {(0.0100,1.0000)(0.1000,1.0000)(1.0000,1.0000)(10.0000,1.0000)(100.0000,1.0000)};\n",
      "\n",
      "\\addplot[name path=only_original_None_down,color=gray!70,dashed] coordinates {(0.0100,1.0000)(0.1000,1.0000)(1.0000,1.0000)(10.0000,1.0000)(100.0000,1.0000)};\n",
      "\n",
      "\\addplot[gray!50,fill opacity=0.1] fill between[of=only_original_None_top and only_original_None_down];\n",
      "\n",
      "\\addplot[name path=interleave_cayley_top,color=blue!70,dashed] coordinates {(0.0100,29.1614)(0.1000,1.7019)(1.0000,0.6810)(10.0000,0.4241)(100.0000,0.9141)};\n",
      "\n",
      "\\addplot[name path=interleave_cayley_down,color=blue!70,dashed] coordinates {(0.0100,10.7530)(0.1000,0.3234)(1.0000,0.4013)(10.0000,0.3505)(100.0000,0.4006)};\n",
      "\n",
      "\\addplot[blue!50,fill opacity=0.1] fill between[of=interleave_cayley_top and interleave_cayley_down];\n",
      "\n",
      "\\addplot[name path=interleave_unconnected_cayley_clusters_top,color=red!70,dashed] coordinates {(0.0100,1.8928)(0.1000,1.0679)(1.0000,0.8814)(10.0000,0.8432)(100.0000,0.7237)};\n",
      "\n",
      "\\addplot[name path=interleave_unconnected_cayley_clusters_down,color=red!70,dashed] coordinates {(0.0100,1.3172)(0.1000,0.6029)(1.0000,0.4475)(10.0000,0.4540)(100.0000,0.2776)};\n",
      "\n",
      "\\addplot[red!50,fill opacity=0.1] fill between[of=interleave_unconnected_cayley_clusters_top and interleave_unconnected_cayley_clusters_down];\n",
      "\n",
      "\\addplot[name path=interleave_fully_connected_clusters_top,color=green!70,dashed] coordinates {(0.0100,28.4819)(0.1000,4.0607)(1.0000,1.8664)(10.0000,1.8624)(100.0000,3.7454)};\n",
      "\n",
      "\\addplot[name path=interleave_fully_connected_clusters_down,color=green!70,dashed] coordinates {(0.0100,7.6110)(0.1000,1.3666)(1.0000,0.6569)(10.0000,0.3250)(100.0000,1.8376)};\n",
      "\n",
      "\\addplot[green!50,fill opacity=0.1] fill between[of=interleave_fully_connected_clusters_top and interleave_fully_connected_clusters_down];\n",
      "\n",
      "\\addplot[name path=interleave_fully_connected_top,color=orange!70,dashed] coordinates {(0.0100,2128.9881)(0.1000,112.8937)(1.0000,30.2581)(10.0000,6.6216)(100.0000,14.1270)};\n",
      "\n",
      "\\addplot[name path=interleave_fully_connected_down,color=orange!70,dashed] coordinates {(0.0100,8.2736)(0.1000,12.4023)(1.0000,-3.9091)(10.0000,3.5705)(100.0000,-0.8744)};\n",
      "\n",
      "\\addplot[orange!50,fill opacity=0.1] fill between[of=interleave_fully_connected_top and interleave_fully_connected_down];\n",
      "\n",
      "\n",
      "\\legend{Plain GIN, GIN+Cayley, GIN+Unconnected Cayley Clusters, GIN+Fully Connected}\n",
      "\\end{axis}\n",
      "\\end{tikzpicture}\n",
      "\n"
     ]
    }
   ],
   "source": [
    "print(plot)"
   ]
  },
  {
   "cell_type": "code",
   "execution_count": null,
   "metadata": {},
   "outputs": [],
   "source": []
  },
  {
   "cell_type": "code",
   "execution_count": null,
   "metadata": {},
   "outputs": [],
   "source": []
  }
 ],
 "metadata": {
  "kernelspec": {
   "display_name": "Python 3",
   "language": "python",
   "name": "python3"
  },
  "language_info": {
   "codemirror_mode": {
    "name": "ipython",
    "version": 3
   },
   "file_extension": ".py",
   "mimetype": "text/x-python",
   "name": "python",
   "nbconvert_exporter": "python",
   "pygments_lexer": "ipython3",
   "version": "3.11.7"
  }
 },
 "nbformat": 4,
 "nbformat_minor": 2
}
